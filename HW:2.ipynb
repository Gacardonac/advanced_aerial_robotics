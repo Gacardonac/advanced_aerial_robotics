{
 "cells": [
  {
   "cell_type": "code",
   "execution_count": 5,
   "metadata": {},
   "outputs": [
    {
     "name": "stdout",
     "output_type": "stream",
     "text": [
      "Populating the interactive namespace from numpy and matplotlib\n"
     ]
    }
   ],
   "source": [
    "%pylab inline\n",
    "from scipy.integrate import odeint\n"
   ]
  },
  {
   "cell_type": "code",
   "execution_count": null,
   "metadata": {},
   "outputs": [],
   "source": []
  },
  {
   "cell_type": "markdown",
   "metadata": {},
   "source": [
    "# Homework 2: First Part\n"
   ]
  },
  {
   "cell_type": "markdown",
   "metadata": {},
   "source": [
    "\n",
    "## (1) Ideal Control "
   ]
  },
  {
   "cell_type": "markdown",
   "metadata": {},
   "source": [
    "<p>Here we found the ideal controller in which a force either in x and why are feasible all the time, the expected behaviour is to have a peferct line from initial point to desired position.</p>\n",
    "\n",
    "We define gravity force as $g=9.8$, vector state $\\mathbf{x}=[x, y,v_x, v_y]$, initial state $\\mathbf{x}=[0, 0, 0, 0]$, desired final state as $\\mathbf{x}^d= \\left [ \\frac{\\sqrt(2)}{2}, \\frac{\\sqrt(2)}{2}, 0, 0\\right]$, mass as $m=1$.\n",
    "\n",
    "Dynamic of the system is defined as \n",
    "$\\mathbf{\\dot{x}}=\\begin{bmatrix}\n",
    "\\dot{x}\\\\ \n",
    "\\dot{y}\\\\ \n",
    "\\ddot{x}\\\\\n",
    "\\ddot{y}\n",
    "\\end{bmatrix}=\\begin{bmatrix}\n",
    "v_x\\\\\n",
    "v_y\\\\\n",
    "u_x \\\\\n",
    "u_y-mg\n",
    "\\end{bmatrix}$ where $u_x$ and $u_y$ are the designed control parameters. By defining error dynamic such as \n",
    "$e_x=x^d-x$ and $e_y=y^d-y$ and its derivatives $\\dot{e}_x=\\dot{x}^d-\\dot{x}$ and $\\dot{e}_y=\\dot{y}^d-\\dot{y}$ the control in each axis is then\n",
    "\n",
    "$u_x=kp*e_x+k_d*\\dot{e}_x$\n",
    "\n",
    "$u_x=kp*e_y+k_d*\\dot{e}_y+mg$\n"
   ]
  },
  {
   "cell_type": "code",
   "execution_count": 6,
   "metadata": {},
   "outputs": [],
   "source": [
    "import math as mt\n",
    "def control(x, ref):\n",
    "    ex = ref[0] - x[0]\n",
    "    exd = ref[2] - x[2] \n",
    "    ey = ref[1] - x[1]\n",
    "    eyd = ref[3] - x[3] \n",
    "    u[0] = kp*ex + kd*exd\n",
    "    u[1] = kp*ey + kd*eyd +m*g\n",
    "    angle = mt.atan2(u[1],u[0])*180/pi\n",
    "    return u\n",
    "\n",
    "def physics(dt, x, ref):\n",
    "    if x[1] >= 0:\n",
    "        u = control(x, ref)\n",
    "        aux = pi*65/180\n",
    "        a[0] = u[0]\n",
    "        a[1] = u[1]\n",
    "        dx = array([x[2], x[3], a[0], a[1]-m*g])\n",
    "    elif x[1] < 0:\n",
    "        dx = array([x[2], x[3], 0, 0])\n",
    "\n",
    "    x += dx * dt\n",
    "    \n",
    "    return [x]"
   ]
  },
  {
   "cell_type": "code",
   "execution_count": 7,
   "metadata": {},
   "outputs": [
    {
     "data": {
      "text/plain": [
       "[<matplotlib.lines.Line2D at 0x7fb514df4dc0>]"
      ]
     },
     "execution_count": 7,
     "metadata": {},
     "output_type": "execute_result"
    },
    {
     "data": {
      "image/png": "[encoded data removed]",
      "text/plain": [
       "<Figure size 432x288 with 1 Axes>"
      ]
     },
     "metadata": {
      "needs_background": "light"
     },
     "output_type": "display_data"
    }
   ],
   "source": [
    "tf = 5.\n",
    "dt = 0.0001    # Time step\n",
    "time = linspace(0.,tf, int(tf / dt) + 1)  # Time interval\n",
    "\n",
    "g = 9.8\n",
    "m = 1.\n",
    "kp = 3.\n",
    "kd = 6.\n",
    "\n",
    "\n",
    "x = array([0., 0., 0., 0.])\n",
    "ref = array ([5+(sqrt(2)/2), 4+(sqrt(2)/2), 0., 0.])\n",
    "a = array([0., 0.])\n",
    "u = array([0., 0.])\n",
    "x_log = [copy(x)]\n",
    "\n",
    "for t in time:\n",
    "    [x] = physics(dt, x, ref)\n",
    "    x_log.append(copy(x))\n",
    "\n",
    "\n",
    "x_log = array(x_log)\n",
    "# print('x:{} y:{}'.format(ref[0],ref[1]))\n",
    "plot(x_log[:,0], x_log[:,1])\n"
   ]
  },
  {
   "cell_type": "markdown",
   "metadata": {},
   "source": [
    "As expected the control drives the particle to the desired final position in a straigth line. However, this is not our case since the force is fixed at $\\theta=60$"
   ]
  },
  {
   "cell_type": "markdown",
   "metadata": {},
   "source": [
    "## (2) Angle fixed"
   ]
  },
  {
   "cell_type": "markdown",
   "metadata": {},
   "source": [
    "As explained in the previous simulation the angle of the force is fixed so the amount of force applied to each axis might not vary in components just its magnitude, then is neccesary to consider $a_x= \\|F\\|\\cos(60)$, and $a_y=\\|F\\| \\sin(60)$. However, this do not satisfy the requirements of the problem since it requires the force to be applied over the entire trajectory."
   ]
  },
  {
   "cell_type": "code",
   "execution_count": 8,
   "metadata": {},
   "outputs": [],
   "source": [
    "import math as mt\n",
    "def control2(x, ref):\n",
    "    ex = ref[0] - x[0]\n",
    "    exd = ref[2] - x[2] \n",
    "    ey = ref[1] - x[1]\n",
    "    eyd = ref[3] - x[3] \n",
    "    u[0] = kp*ex + kd*exd\n",
    "    u[1] = kp*ey + kd*eyd +m*g\n",
    "    angle = mt.atan2(u[1],u[0])*180/pi\n",
    "    return u\n",
    "\n",
    "def physics2(dt, x, ref):\n",
    "    if x[1] >= 0:\n",
    "        u = control2(x, ref)\n",
    "        aux = pi*60/180\n",
    "        a[0] = u[0] * cos(aux)\n",
    "        a[1] = u[1] * sin(aux)\n",
    "        dx = array([x[2], x[3], a[0], a[1]-m*g])\n",
    "    elif x[1] < 0:\n",
    "        dx = array([x[2], x[3], 0, 0])\n",
    "\n",
    "    x += dx * dt\n",
    "    \n",
    "    return [x]"
   ]
  },
  {
   "cell_type": "code",
   "execution_count": 9,
   "metadata": {},
   "outputs": [
    {
     "data": {
      "text/plain": [
       "[<matplotlib.lines.Line2D at 0x7fb514ce17c0>]"
      ]
     },
     "execution_count": 9,
     "metadata": {},
     "output_type": "execute_result"
    },
    {
     "data": {
      "image/png": "[encoded data removed]",
      "text/plain": [
       "<Figure size 432x288 with 1 Axes>"
      ]
     },
     "metadata": {
      "needs_background": "light"
     },
     "output_type": "display_data"
    }
   ],
   "source": [
    "tf = 5.\n",
    "dt = 0.0001    # Time step\n",
    "time = linspace(0.,tf, int(tf / dt) + 1)  # Time interval\n",
    "\n",
    "g = 9.8\n",
    "m = 1.\n",
    "kp = 2.\n",
    "kd = 3.\n",
    "\n",
    "\n",
    "x = array([0., 0., 0., 0.])\n",
    "ref = array ([5+(sqrt(2)/2), 4+(sqrt(2)/2), 0., 0.])\n",
    "a = array([0., 0.])\n",
    "u = array([0., 0.])\n",
    "x_log = [copy(x)]\n",
    "\n",
    "for t in time:\n",
    "    [x] = physics2(dt, x, ref)\n",
    "    x_log.append(copy(x))\n",
    "\n",
    "\n",
    "x_log = array(x_log)\n",
    "# print('x:{} y:{}'.format(ref[0],ref[1]))\n",
    "plot(x_log[:,0], x_log[:,1])\n"
   ]
  },
  {
   "cell_type": "markdown",
   "metadata": {},
   "source": [
    "## (3) Ramp"
   ]
  },
  {
   "cell_type": "markdown",
   "metadata": {},
   "source": [
    "So, now we use the consevation energy principle to find the velocity we need to reach at the end of the ramp to reach the desired height as\n",
    "\n",
    "$\\frac{1}{2}mv_y^2=mgy^d$\n",
    "\n",
    "Then the velocity we need is $v^d_y=\\sqrt{2mgy^d}$ as the angle of the ramp is $\\alpha=45$, the velocity in $v_x$ must be the same.\n",
    "\n",
    "Maximum normal force for the system to stay at the ramp the should be $N_{max}= \\frac{mg\\cos(45)}{\\sin(45)}$ then, $v_{x_{max}}=N_{max}\\cos(45)$. Then, final desired stated should be $\\mathbf{x}^d = \\left[ \\sqrt{2}/2, \\sqrt{2}/2, v_x^d, v_y^d \\right]$. Dynamic is then\n",
    "\n",
    "$\n",
    "\\begin{matrix}\n",
    "m\\ddot{x}&=&\\|F\\|\\cos(60)-N_x\\\\\n",
    "m\\ddot{y}&=&\\|F\\|\\sin(60)+N_y-mg\n",
    "\\end{matrix}\n",
    "$\n",
    "\n",
    "where $\\|N\\|=g*\\cos(45) - \\|F\\|\\sin(15)$ which is the required to keep on the ramp, the angle is normal to the surface which is $n_{angle}=135$. Therefore, $N_x=\\|N\\|\\cos(135)$ and $N_y=\\|N\\|\\sin(135)$"
   ]
  },
  {
   "cell_type": "code",
   "execution_count": 10,
   "metadata": {},
   "outputs": [],
   "source": [
    "def control3(x, ref, h):\n",
    "    ref[2] = sqrt(2*g*h)\n",
    "    ref[3] = sqrt(2*g*h)\n",
    "    ex = ref[0] - x[0]\n",
    "    exd = ref[2] - x[2] \n",
    "    ey = ref[1] - x[1]\n",
    "    eyd = ref[3] - x[3] \n",
    "    u[0] = kp*ex + kd*exd\n",
    "    u[1] = kp*ey + kd*eyd  \n",
    "    return u\n",
    "\n",
    "def physics3(dt, x, ref, h):\n",
    "    \n",
    "    u = control3(x, ref, h)\n",
    "    ramp_angle = 45 *pi/180\n",
    "    force_angle = 60 *pi/180\n",
    "    F = norm(u)\n",
    "    #F = u.dot([cos(force_angle), sin(force_angle)])\n",
    "    N = g*cos(ramp_angle) - F* sin(15*pi/180)\n",
    "    normal_vector = array([cos(135*pi/180), sin(135*pi/180)])\n",
    "    \n",
    "    if x[0] <= ref[0]:\n",
    "        aux = pi*65/180\n",
    "        a[0] = u[0]\n",
    "        a[1] = u[1]\n",
    "        dx = array([x[2], x[3], F*cos(force_angle) + N * normal_vector[1],\n",
    "                        F*sin(force_angle) + N * normal_vector[1]-g])\n",
    "    elif x[0] > ref[0]:\n",
    "        if x[1] > 0.:\n",
    "            dx = array([x[2], x[3], 0, -g])\n",
    "        elif x[1] <= 0.:\n",
    "            dx = array([x[2], 0, 0, 0])\n",
    "\n",
    "    x += dx * dt\n",
    "    \n",
    "    return [x]"
   ]
  },
  {
   "cell_type": "code",
   "execution_count": 11,
   "metadata": {},
   "outputs": [
    {
     "data": {
      "text/plain": [
       "[<matplotlib.lines.Line2D at 0x7fb514c92970>]"
      ]
     },
     "execution_count": 11,
     "metadata": {},
     "output_type": "execute_result"
    },
    {
     "data": {
      "image/png": "[encoded data removed]",
      "text/plain": [
       "<Figure size 432x288 with 1 Axes>"
      ]
     },
     "metadata": {
      "needs_background": "light"
     },
     "output_type": "display_data"
    }
   ],
   "source": [
    "tf = 4.\n",
    "dt = 0.0001    # Time step\n",
    "time = linspace(0.,tf, int(tf / dt) + 1)  # Time interval\n",
    "\n",
    "g = 9.8\n",
    "m = 1.\n",
    "kp = 1.\n",
    "kd = 6.8\n",
    "\n",
    "\n",
    "x = array([0., 0., 0., 0.])\n",
    "ref = array ([sqrt(2)/2, sqrt(2)/2, 0., 0.])\n",
    "a = array([0., 0.])\n",
    "u = array([0., 0.])\n",
    "x_log = [copy(x)]\n",
    "h = 3.\n",
    "\n",
    "\n",
    "\n",
    "for t in time:\n",
    "    [x] = physics3(dt, x, ref, h)\n",
    "    x_log.append(copy(x))\n",
    "\n",
    "\n",
    "x_log = array(x_log)\n",
    "# print('x:{} y:{}'.format(ref[0],ref[1]))\n",
    "plot(x_log[:,0], x_log[:,1])\n"
   ]
  },
  {
   "cell_type": "markdown",
   "metadata": {},
   "source": [
    "# Homework 2: Second Part"
   ]
  },
  {
   "cell_type": "code",
   "execution_count": 12,
   "metadata": {},
   "outputs": [],
   "source": [
    "def control4(x, ref):\n",
    "    e_theta = ref[0] - x[0]\n",
    "    e_omega = ref[1] - x[1] \n",
    "    u = kp*e_theta + kd*e_omega\n",
    "    return u\n",
    "\n",
    "def physics4(dt, x, ref):\n",
    "    u = control4(x, ref)\n",
    "    dx = array([x[1], u])\n",
    "    x += dx * dt\n",
    "    return [x]\n",
    "\n"
   ]
  },
  {
   "cell_type": "code",
   "execution_count": 16,
   "metadata": {},
   "outputs": [
    {
     "name": "stdout",
     "output_type": "stream",
     "text": [
      "4001 4002\n"
     ]
    },
    {
     "data": {
      "text/plain": [
       "[<matplotlib.lines.Line2D at 0x7fb514b067c0>]"
      ]
     },
     "execution_count": 16,
     "metadata": {},
     "output_type": "execute_result"
    },
    {
     "data": {
      "image/png": "[encoded data removed]",
      "text/plain": [
       "<Figure size 432x288 with 1 Axes>"
      ]
     },
     "metadata": {
      "needs_background": "light"
     },
     "output_type": "display_data"
    }
   ],
   "source": [
    "tf = 4.\n",
    "dt = 0.001    # Time step\n",
    "time = linspace(0.,tf, int(tf / dt) + 1)  # Time interval\n",
    "\n",
    "\n",
    "r = 1.\n",
    "kp = 4.\n",
    "kd = 2.\n",
    "\n",
    "\n",
    "x = array([0., 0.]) #[theta, omega]\n",
    "ref = array ([90, 0.])\n",
    "a = array([0., 0.])\n",
    "u = array([0., 0.])\n",
    "x_log = [copy(x)]\n",
    "\n",
    "\n",
    "for t in time:\n",
    "    [x] = physics4(dt, x, ref)\n",
    "    x_log.append(copy(x))\n",
    "    \n",
    "x_log = array(x_log)\n",
    "print(len(time), len(x_log[:,0]))\n",
    "# print('x:{} y:{}'.format(ref[0],ref[1]))\n",
    "plot(time, x_log[:-1,0])"
   ]
  },
  {
   "cell_type": "code",
   "execution_count": 17,
   "metadata": {},
   "outputs": [],
   "source": [
    "# import matplotlib.pyplot as plt\n",
    "# from matplotlib import animation\n",
    "# from JSAnimation import IPython_display    \n",
    "# from IPython.display import HTML\n",
    "    \n",
    "\n",
    "\n",
    "# fig, ax = plt.subplots()\n",
    "# x_log = array(x_log)\n",
    "\n",
    "# def animate(t):\n",
    "#     ax.clear()\n",
    "    \n",
    "#     # Path\n",
    "# #     plot(x_log[:,0], x_log[:,1])\n",
    "\n",
    "#     plot(x_log[:,0], x_log[:,1], 'r--')\n",
    "    \n",
    "#     # Initial conditions\n",
    "#     plot(x_log[t,0], x_log[t,1], 'bo')\n",
    "# #     plt.quiver()\n",
    "    \n",
    "    \n",
    "# print(len(time))\n",
    "\n",
    "# anim = animation.FuncAnimation(fig, animate, frames=len(time), interval=30)\n",
    "\n",
    "# HTML(anim.to_jshtml())"
   ]
  },
  {
   "cell_type": "code",
   "execution_count": null,
   "metadata": {},
   "outputs": [],
   "source": []
  }
 ],
 "metadata": {
  "kernelspec": {
   "display_name": "Python 3",
   "language": "python",
   "name": "python3"
  },
  "language_info": {
   "codemirror_mode": {
    "name": "ipython",
    "version": 3
   },
   "file_extension": ".py",
   "mimetype": "text/x-python",
   "name": "python",
   "nbconvert_exporter": "python",
   "pygments_lexer": "ipython3",
   "version": "3.8.5"
  }
 },
 "nbformat": 4,
 "nbformat_minor": 2
}
