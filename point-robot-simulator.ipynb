{
 "cells": [
  {
   "cell_type": "code",
   "execution_count": 6,
   "metadata": {},
   "outputs": [
    {
     "name": "stdout",
     "output_type": "stream",
     "text": [
      "Populating the interactive namespace from numpy and matplotlib\n"
     ]
    }
   ],
   "source": [
    "%pylab inline"
   ]
  },
  {
   "cell_type": "markdown",
   "metadata": {},
   "source": [
    "# Building a simulator in 2D"
   ]
  },
  {
   "cell_type": "code",
   "execution_count": 1,
   "metadata": {},
   "outputs": [],
   "source": [
    "# Perfect sensor\n",
    "def update(x):\n",
    "    return x"
   ]
  },
  {
   "cell_type": "markdown",
   "metadata": {},
   "source": [
    "### Euler integration"
   ]
  },
  {
   "cell_type": "code",
   "execution_count": 2,
   "metadata": {},
   "outputs": [],
   "source": [
    "def simulate(Δt, x, u):\n",
    "    x += Δt * u\n",
    "    return x"
   ]
  },
  {
   "cell_type": "markdown",
   "metadata": {},
   "source": [
    "### Control policy"
   ]
  },
  {
   "cell_type": "code",
   "execution_count": 3,
   "metadata": {},
   "outputs": [],
   "source": [
    "def physics(t, y):\n",
    "    ### WRITE YOUR CONTROL POLICY HERE:\n",
    "    if t < 2:\n",
    "        ux = t\n",
    "        uz = ux**2\n",
    "    elif t >= 0:\n",
    "        ux = 0\n",
    "        uz = 0\n",
    "    return array([ux, uz])"
   ]
  },
  {
   "cell_type": "markdown",
   "metadata": {},
   "source": [
    "### Running the simulator"
   ]
  },
  {
   "cell_type": "code",
   "execution_count": 7,
   "metadata": {},
   "outputs": [],
   "source": [
    "tf = 3.\n",
    "Δt = 0.1    # Time step\n",
    "time = linspace(0.,tf, int(tf / Δt) + 1)  # Time interval\n",
    "\n",
    "\n",
    "# Initial conditions\n",
    "x = array([-3.0, 9.0])\n",
    "x_log = [copy(x)]\n",
    "\n",
    "for t in time:\n",
    "    y = update(x)\n",
    "    u = physics(t, y)    \n",
    "    x = simulate(Δt, x, u)\n",
    "    x_log.append(copy(x))\n",
    "    \n",
    "x_log = array(x_log)"
   ]
  },
  {
   "cell_type": "code",
   "execution_count": 8,
   "metadata": {},
   "outputs": [
    {
     "data": {
      "text/plain": [
       "[<matplotlib.lines.Line2D at 0x7f097a4b9df0>]"
      ]
     },
     "execution_count": 8,
     "metadata": {},
     "output_type": "execute_result"
    },
    {
     "data": {
      "image/png": "[encoded data removed]",
      "text/plain": [
       "<Figure size 432x288 with 1 Axes>"
      ]
     },
     "metadata": {
      "needs_background": "light"
     },
     "output_type": "display_data"
    }
   ],
   "source": [
    "grid()\n",
    "plot(x_log[:,0], x_log[:,1])"
   ]
  },
  {
   "cell_type": "code",
   "execution_count": null,
   "metadata": {},
   "outputs": [],
   "source": [
    "import matplotlib.pyplot as plt\n",
    "from matplotlib import animation\n",
    "from JSAnimation import IPython_display    \n",
    "from IPython.display import HTML\n",
    "    \n",
    "\n",
    "\n",
    "fig, ax = plt.subplots()\n",
    "\n",
    "def animate(t):\n",
    "    ax.clear()\n",
    "    \n",
    "    # Path\n",
    "    plot(x_log[:,0], x_log[:,1], 'r--')\n",
    "    \n",
    "    # Initial conditions\n",
    "    plot(x_log[t,0], x_log[t,1], 'bo')\n",
    "    \n",
    "    \n",
    "\n",
    "anim = animation.FuncAnimation(fig, animate, frames=len(time), interval=60)\n",
    "\n",
    "HTML(anim.to_jshtml())"
   ]
  },
  {
   "cell_type": "code",
   "execution_count": null,
   "metadata": {},
   "outputs": [],
   "source": []
  }
 ],
 "metadata": {
  "kernelspec": {
   "display_name": "Python 3.8.2 64-bit",
   "language": "python",
   "name": "python38264bit7e74371b53554bfaa2b4a69f1a8b56c4"
  },
  "language_info": {
   "codemirror_mode": {
    "name": "ipython",
    "version": 3
   },
   "file_extension": ".py",
   "mimetype": "text/x-python",
   "name": "python",
   "nbconvert_exporter": "python",
   "pygments_lexer": "ipython3",
   "version": "3.8.5"
  }
 },
 "nbformat": 4,
 "nbformat_minor": 4
}
