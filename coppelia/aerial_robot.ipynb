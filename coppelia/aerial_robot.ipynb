{
 "cells": [
  {
   "cell_type": "markdown",
   "metadata": {},
   "source": [
    "# Aerial Robot\n",
    "\n",
    "The aerial robot is a cuboid object with eight propellers.\n"
   ]
  },
  {
   "cell_type": "code",
   "execution_count": 23,
   "metadata": {},
   "outputs": [
    {
     "output_type": "stream",
     "name": "stdout",
     "text": [
      "Populating the interactive namespace from numpy and matplotlib\n"
     ]
    }
   ],
   "source": [
    "import sim\n",
    "import numpy as np \n",
    "from scipy.spatial.transform import Rotation as R\n",
    "%pylab inline"
   ]
  },
  {
   "source": [
    "### Check if python is connecting to Coppelia"
   ],
   "cell_type": "markdown",
   "metadata": {}
  },
  {
   "cell_type": "code",
   "execution_count": 24,
   "metadata": {},
   "outputs": [
    {
     "output_type": "stream",
     "name": "stdout",
     "text": [
      "Connected\n",
      "Simulation time in milliseconds:  237552\n",
      "DesiredBox is at [x,y,z]= [0.024999894201755524, -0.3750000596046448, 0.299999862909317]\n",
      "0\n",
      "Disconnected\n"
     ]
    }
   ],
   "source": [
    "sim.simxFinish(-1)  # Close opened connections\n",
    "clientID = sim.simxStart('127.0.0.1', 19999, True, True, 5000, 5)  # Connect to CoppeliaSim\n",
    "\n",
    "if clientID != -1:\n",
    "    print('Connected')\n",
    "\n",
    "    # Now try to retrieve data in a blocking fashion (i.e. a service call):\n",
    "    res, objs = sim.simxGetObjects(clientID, sim.sim_handle_all, sim.simx_opmode_blocking)\n",
    "\n",
    "    print('Simulation time in milliseconds: ', sim.simxGetLastCmdTime(clientID))\n",
    "    \n",
    "    # Get Object position\n",
    "    name = 'DesiredBox'\n",
    "    err_code, cuboid = sim.simxGetObjectHandle(clientID, name, sim.simx_opmode_blocking)\n",
    "    res, position = sim.simxGetObjectPosition(clientID, cuboid, -1, sim.simx_opmode_blocking)        \n",
    "    print(name, 'is at [x,y,z]=', position)\n",
    "    \n",
    "    \n",
    "    #res, position = sim.simxAddForce(clientID, name,[0,0,10],[0,0,0])\n",
    "    \n",
    "\n",
    "    res = sim.simxSetFloatSignal(clientID,'fx', 0.0,sim.simx_opmode_oneshot_wait)\n",
    "    print(res)\n",
    "    \n",
    "    # Now close the connection to CoppeliaSim:\n",
    "    sim.simxGetPingTime(clientID)\n",
    "    sim.simxFinish(clientID)\n",
    "    print('Disconnected')\n",
    "else:\n",
    "    print('Failed connecting to remote API server')\n"
   ]
  },
  {
   "cell_type": "markdown",
   "metadata": {},
   "source": [
    "# Robot"
   ]
  },
  {
   "cell_type": "code",
   "execution_count": 29,
   "metadata": {},
   "outputs": [],
   "source": [
    "class robot():\n",
    "    \n",
    "    def __init__(self, frame_name, motor_names=[], client_id=0):  \n",
    "        # If there is an existing connection\n",
    "        if client_id:\n",
    "                self.client_id = client_id\n",
    "        else:\n",
    "            self.client_id = self.open_connection()\n",
    "            \n",
    "        self.motors = self._get_handlers(motor_names) \n",
    "        \n",
    "        # Robot frame\n",
    "        self.frame =  self._get_handler(frame_name)\n",
    "            \n",
    "        \n",
    "    def open_connection(self):\n",
    "        sim.simxFinish(-1)  # just in case, close all opened connections\n",
    "        self.client_id = sim.simxStart('127.0.0.1', 19999, True, True, 5000, 5)  # Connect to CoppeliaSim \n",
    "        \n",
    "        if clientID != -1:\n",
    "            print('Robot connected')\n",
    "        else:\n",
    "            print('Connection failed')\n",
    "        return clientID\n",
    "        \n",
    "    def close_connection(self):\n",
    "        self.wrench([0, 0, 0, 0, 0, 0])    \n",
    "        sim.simxGetPingTime(self.client_id)  # Before closing the connection to CoppeliaSim, make sure that the last command sent out had time to arrive.\n",
    "        sim.simxFinish(self.client_id)  # Now close the connection to CoppeliaSim:\n",
    "        print('Connection closed')\n",
    "    \n",
    "    def isConnected(self):\n",
    "        c,result = sim.simxGetPingTime(self.client_id)\n",
    "        # Return true if the robot is connected\n",
    "        return result > 0         \n",
    "        \n",
    "    def _get_handler(self, name):\n",
    "        err_code, handler = sim.simxGetObjectHandle(self.client_id, name, sim.simx_opmode_blocking)\n",
    "        return handler\n",
    "    \n",
    "    def _get_handlers(self, names):\n",
    "        handlers = []\n",
    "        for name in names:\n",
    "            handler = self._get_handler(name)\n",
    "            handlers.append(handler)\n",
    "        \n",
    "        return handlers\n",
    "\n",
    "    def send_motor_velocities(self, vels):\n",
    "        for motor, vel in zip(self.motors, vels):\n",
    "            err_code = sim.simxSetJointTargetVelocity(self.client_id, \n",
    "                                                      motor, vel, sim.simx_opmode_streaming)      \n",
    "            \n",
    "    def set_position(self, position, relative_object=-1):\n",
    "        if relative_object != -1:\n",
    "            relative_object = self._get_handler(relative_object)        \n",
    "        sim.simxSetObjectPosition(clientID, self.frame, relative_object, position, sim.simx_opmode_oneshot)                \n",
    "        \n",
    "    def simtime(self):\n",
    "        return sim.simxGetLastCmdTime(self.client_id)\n",
    "    \n",
    "    def get_position(self, relative_object=-1):\n",
    "        # Get position relative to an object, -1 for global frame\n",
    "        if relative_object != -1:\n",
    "            relative_object = self._get_handler(relative_object)\n",
    "        res, position = sim.simxGetObjectPosition(self.client_id, self.frame, relative_object, sim.simx_opmode_blocking)        \n",
    "        return array(position)\n",
    "    \n",
    "    \n",
    "    \n",
    "    def get_velocity(self, relative_object=-1):\n",
    "        # Get velocity relative to an object, -1 for global frame\n",
    "        if relative_object != -1:\n",
    "            relative_object = self._get_handler(relative_object)\n",
    "        res, velocity, omega = sim.simxGetObjectVelocity(self.client_id, self.frame, sim.simx_opmode_blocking)        \n",
    "        return array(velocity), array(omega)\n",
    "    \n",
    "    \n",
    "    \n",
    "    def get_object_position(self, object_name):\n",
    "        # Get Object position in the world frame\n",
    "        err_code, object_h = sim.simxGetObjectHandle(self.client_id, object_name, sim.simx_opmode_blocking)\n",
    "        res, position = sim.simxGetObjectPosition(self.client_id, object_h, -1, sim.simx_opmode_blocking)\n",
    "        return array(position)\n",
    "    \n",
    "    def get_object_relative_position(self, object_name):        \n",
    "        # Get Object position in the robot frame\n",
    "        err_code, object_h = sim.simxGetObjectHandle(self.client_id, object_name, sim.simx_opmode_blocking)\n",
    "        res, position = sim.simxGetObjectPosition(self.client_id, object_h, self.frame,sim.simx_opmode_blocking)\n",
    "        return array(position)\n",
    "        \n",
    "    def get_orientation(self, relative_object=-1):\n",
    "        # Get orientation relative to an object, -1 for global frame\n",
    "        if relative_object != -1:\n",
    "            relative_object = self._get_handler(relative_object)\n",
    "        res, euler = sim.simxGetObjectOrientation(self.client_id, self.frame, relative_object, sim.simx_opmode_blocking)\n",
    "        return np.array(euler)        \n",
    "\n",
    "    def set_signal(self, signal, value):\n",
    "        return sim.simxSetFloatSignal(clientID, signal, value, sim.simx_opmode_oneshot_wait)\n",
    "        \n",
    "    def wrench(self, w):\n",
    "        names = ['fx', 'fy', 'fz', 'Mx', 'My', 'Mz']\n",
    "        for ni, wi in zip(names, w):\n",
    "            self.set_signal(ni, wi)\n",
    "            \n",
    "    def set_forces(self, f, signal='f'):\n",
    "            # For many propellers\n",
    "            for i, fi in enumerate(f):\n",
    "                signali = signal + str(i+1)\n",
    "                sim.simxSetFloatSignal(clientID, signali, fi, sim.simx_opmode_oneshot)"
   ]
  },
  {
   "cell_type": "markdown",
   "metadata": {},
   "source": [
    "# PD-Control It is needed to take out the rotation matrices in LUA"
   ]
  },
  {
   "cell_type": "code",
   "execution_count": 30,
   "metadata": {},
   "outputs": [],
   "source": [
    "def Rx(theta):\n",
    "    return np.matrix([[ 1, 0           , 0           ],\n",
    "                [ 0, cos(theta),-sin(theta)],\n",
    "                [ 0, sin(theta), cos(theta)]])\n",
    "\n",
    "def Ry(theta):\n",
    "    return np.matrix([[ cos(theta), 0, sin(theta)],\n",
    "                [ 0           , 1, 0           ],\n",
    "                [-sin(theta), 0, cos(theta)]])\n",
    "\n",
    "def Rz(theta):\n",
    "    return np.matrix([[ cos(theta), -sin(theta), 0 ],\n",
    "                [ sin(theta), cos(theta) , 0 ],\n",
    "                [ 0           , 0            , 1 ]])"
   ]
  },
  {
   "cell_type": "code",
   "execution_count": 31,
   "metadata": {},
   "outputs": [],
   "source": [
    "# Rotation matrices Davi\n",
    "RotX = lambda ϕ: [[1, 0, 0], \n",
    "         [0, cos(ϕ), -sin(ϕ)],\n",
    "         [0, sin(ϕ), cos(ϕ)]]\n",
    "RotY = lambda θ: [[cos(θ), 0, sin(θ)], \n",
    "         [0, 1, 0],\n",
    "         [-sin(θ), 0, cos(θ)]]\n",
    "RotZ = lambda ψ: [[cos(ψ), -sin(ψ), 0], \n",
    "        [sin(ψ), cos(ψ), 0],\n",
    "        [0, 0, 1]]\n",
    "RotZYX = lambda Θ: np.dot(RotZ(Θ[2]), np.dot(RotY(Θ[1]), RotX(Θ[0])))"
   ]
  },
  {
   "cell_type": "code",
   "execution_count": 32,
   "metadata": {},
   "outputs": [
    {
     "output_type": "stream",
     "name": "stdout",
     "text": [
      "[[ 7.07106781e-01 -7.07106781e-01 -7.07106781e-01  7.07106781e-01\n   0.00000000e+00  0.00000000e+00  0.00000000e+00  0.00000000e+00]\n [ 0.00000000e+00  0.00000000e+00  0.00000000e+00  0.00000000e+00\n  -7.07106781e-01 -7.07106781e-01  7.07106781e-01  7.07106781e-01]\n [ 7.07106781e-01  7.07106781e-01  7.07106781e-01  7.07106781e-01\n  -7.07106781e-01 -7.07106781e-01 -7.07106781e-01 -7.07106781e-01]\n [-7.07106781e-02 -7.07106781e-02  7.07106781e-02  7.07106781e-02\n  -1.38777878e-17 -1.38777878e-17  1.38777878e-17  1.38777878e-17]\n [-1.38777878e-17  1.38777878e-17  1.38777878e-17 -1.38777878e-17\n   7.07106781e-02 -7.07106781e-02 -7.07106781e-02  7.07106781e-02]\n [ 7.07106781e-02 -7.07106781e-02  7.07106781e-02 -7.07106781e-02\n  -7.07106781e-02  7.07106781e-02 -7.07106781e-02  7.07106781e-02]]\n"
     ]
    }
   ],
   "source": [
    "Propellers = ['propeller1', 'propeller2', 'propeller3', 'propeller4', 'propeller5', 'propeller6', 'propeller7', 'propeller8'] \n",
    "# Propeller orientations\n",
    "angles = [(0, pi/4), (0, -pi/4), (0, -pi/4), (0, pi/4), \n",
    "         (3*pi/4, 0), (3*pi/4, 0), (-3*pi/4, 0), (-3*pi/4, 0)]\n",
    "R_prop = [RotZYX((ϕ, θ, 0)) for ϕ, θ in angles]\n",
    "e3 = array([[0],[0],[1]])\n",
    "z_prop = [np.dot(Ri, e3) for Ri in R_prop]\n",
    "# Propeller locations\n",
    "p = [(1, 0, 1), (0, 1, 1), (-1, 0, 1), (0, -1, 1),\n",
    "    (1, -1, -1), (-1, -1, -1), (-1, 1, -1), (1, 1, -1)]\n",
    "# scale locations\n",
    "d = 0.1  # distance of the arm in an axis\n",
    "p = d * array(p)\n",
    "# A matrix\n",
    "A_force = np.hstack(z_prop)\n",
    "A_torque = np.hstack([np.cross(pi, zi.T).T for pi, zi in zip(p, z_prop)])\n",
    "A = np.vstack((A_force, A_torque))\n",
    "print(A)\n",
    "Apinv = np.linalg.pinv(A)"
   ]
  },
  {
   "cell_type": "code",
   "execution_count": 40,
   "metadata": {},
   "outputs": [
    {
     "output_type": "stream",
     "name": "stdout",
     "text": [
      "Robot connected\n",
      "Robot connected\n",
      "Connection closed\n",
      "Connection closed\n"
     ]
    }
   ],
   "source": [
    "# Send force to a robot\n",
    "r = robot('Cuboid')\n",
    "d = robot('DesiredBox')\n",
    "r.set_forces([0, 0, 0, 0, 0, 0, 0, 0])\n",
    "\n",
    "\n",
    "\n",
    "m = 8 #kg mass of the block plus the mass of the prop\n",
    "g = 9.81\n",
    "J = 0.1\n",
    "\n",
    "log = []\n",
    "try: \n",
    "    while True:\n",
    "        # Robot state\n",
    "        p = r.get_position()\n",
    "        rot_p = r.get_orientation()\n",
    "        v, ω = r.get_velocity()\n",
    "        # Desired state\n",
    "        p_d = d.get_position()\n",
    "        rot_d = d.get_orientation()\n",
    "        v_d, ω_d = d.get_velocity()\n",
    "\n",
    "        ep = p_d - p\n",
    "        ev = v_d - v\n",
    "        eω = ω_d - ω\n",
    "        er = rot_d - rot_p\n",
    "      \n",
    "        kp, kd = 0.6, 0.14\n",
    "        a = kp * ep + kd * ev\n",
    "\n",
    "        kp_r, kd_r = 0.2, 0.76\n",
    "        ar = kp_r * er + kd_r * eω             \n",
    "\n",
    "        Rotm = RotZYX(rot_p)\n",
    "        # print(Rotm, shape(Rotm))              \n",
    "        f = m * a\n",
    "        f[2] += m*g\n",
    "        f = np.dot(Rotm.T, f)\n",
    "        # ar2 = np.dot(Rotm.T, ar)\n",
    "        tau = J * ar \n",
    "            \n",
    "    \n",
    "        wrench = [f[0], f[1], f[2], tau[0], tau[1], tau[2]]\n",
    "        control = np.dot(Apinv, wrench)\n",
    "        r.set_forces(control)\n",
    "        \n",
    "        \n",
    "        # log.append(ep)\n",
    "        time.sleep(0.001)\n",
    "except KeyboardInterrupt:\n",
    "    r.set_forces([0, 0, 0, 0, 0, 0, 0, 0])\n",
    "    r.close_connection()\n",
    "    d.close_connection()"
   ]
  },
  {
   "cell_type": "code",
   "execution_count": 18,
   "metadata": {},
   "outputs": [
    {
     "output_type": "stream",
     "name": "stdout",
     "text": [
      "Connection closed\nConnection closed\n"
     ]
    }
   ],
   "source": [
    "r.close_connection()\n",
    "d.close_connection()"
   ]
  }
 ],
 "metadata": {
  "kernelspec": {
   "name": "python38564bitc8643f50d8c445c5bc0241398689d714",
   "display_name": "Python 3.8.5 64-bit"
  },
  "language_info": {
   "codemirror_mode": {
    "name": "ipython",
    "version": 3
   },
   "file_extension": ".py",
   "mimetype": "text/x-python",
   "name": "python",
   "nbconvert_exporter": "python",
   "pygments_lexer": "ipython3",
   "version": "3.8.5"
  },
  "metadata": {
   "interpreter": {
    "hash": "767d51c1340bd893661ea55ea3124f6de3c7a262a8b4abca0554b478b1e2ff90"
   }
  }
 },
 "nbformat": 4,
 "nbformat_minor": 4
}